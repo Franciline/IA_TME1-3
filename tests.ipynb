{
 "cells": [
  {
   "cell_type": "code",
   "execution_count": 12,
   "metadata": {},
   "outputs": [],
   "source": [
    "from gale_shapley import gale_shapley_etud, gale_shapley_parc, get_instable\n",
    "from matrice_pref import matriceCE, matriceCP\n",
    "\n",
    "folder = \"preferences_data\""
   ]
  },
  {
   "cell_type": "markdown",
   "metadata": {},
   "source": [
    "**Test1 de stabilité `get_instable`**.\n",
    "\n",
    "Préférence des hommes :\n",
    "|   | 1 | 2  | 3  |\n",
    "|---|---|---|---|\n",
    "|Xavier|Amy| Bea  | Claire  |  \n",
    "|Yohan |Bea| Amy  | Claire  |  \n",
    "|Zach  |Amy| Bea  | Claire  | \n",
    "\n",
    "Préférence des femmes :\n",
    "|   | 1 | 2  | 3  |\n",
    "|---|---|---|---|\n",
    "|Amy|Xavier| Yohan  | Zach  |  \n",
    "|Bea |Xavier| Yohan  | Zach  |  \n",
    "|Claire  |Yohan| Xavier  | Zach  |  \n",
    "\n",
    "*Mariage 1* X-C, Y-B, Z-A est instable. Il existe 2 paires instables : X-A et X-B.\n",
    "*Mariage 2* X-A, Y-B, Z-C est stable.\n"
   ]
  },
  {
   "cell_type": "markdown",
   "metadata": {},
   "source": []
  },
  {
   "cell_type": "code",
   "execution_count": 13,
   "metadata": {},
   "outputs": [],
   "source": [
    "pref_H = [[0, 1, 2], [1, 0, 2], [0, 1, 2]]\n",
    "pref_F = [[0, 1, 2], [0, 1, 2], [1, 0, 2]]\n",
    "\n",
    "mariage1 = [[2], [1], [0]]\n",
    "mariage2 = [[0], [1], [2]]\n",
    "assert(get_instable(pref_F, pref_H, mariage1) == {(0, 0), (0, 1)})\n",
    "assert(get_instable(pref_F, pref_H, mariage2) == set())"
   ]
  },
  {
   "cell_type": "markdown",
   "metadata": {},
   "source": [
    "**Test2 de stabilité `get_instable`**.\n",
    "\n",
    "Préférence des hommes :\n",
    "|   | 1 | 2  | 3  |\n",
    "|---|---|---|---|\n",
    "|Xavier|Amy| Bea  | Claire  |  \n",
    "|Yohan |Bea| Amy  | Claire  |  \n",
    "|Zach  |Amy| Bea  | Claire  | \n",
    "\n",
    "Préférence des femmes :\n",
    "|   | 1 | 2  | 3  |\n",
    "|---|---|---|---|\n",
    "|Amy|Yohan| Xavier  | Zach  |  \n",
    "|Bea |Xavier| Yohan  | Zach  |  \n",
    "|Claire|Xavier| Yohan  | Zach  |  "
   ]
  },
  {
   "cell_type": "code",
   "execution_count": 14,
   "metadata": {},
   "outputs": [],
   "source": [
    "pref_H = [[0, 1, 2], [1, 0, 2], [0, 1, 2]]\n",
    "pref_F = [[1, 0, 2], [0, 1, 2], [0, 1, 2]]\n",
    "\n",
    "mariage1 = [[0], [1], [2]]\n",
    "mariage2 = [[1], [0], [2]]\n",
    "assert(get_instable(pref_F, pref_H, mariage1) == set())\n",
    "assert(get_instable(pref_F, pref_H, mariage2) == set())"
   ]
  },
  {
   "cell_type": "code",
   "execution_count": 15,
   "metadata": {},
   "outputs": [
    {
     "data": {
      "text/plain": [
       "([[5, 7, 6, 8, 3, 2, 0, 1, 4],\n",
       "  [6, 5, 0, 4, 7, 2, 8, 3, 1],\n",
       "  [4, 0, 7, 2, 8, 3, 1, 6, 5],\n",
       "  [6, 5, 7, 0, 8, 4, 3, 1, 2],\n",
       "  [1, 6, 7, 5, 0, 2, 4, 8, 3],\n",
       "  [0, 7, 4, 2, 8, 3, 1, 6, 5],\n",
       "  [5, 7, 6, 2, 8, 3, 0, 1, 4],\n",
       "  [7, 0, 4, 2, 8, 3, 1, 6, 5],\n",
       "  [5, 7, 6, 2, 8, 3, 0, 1, 4],\n",
       "  [2, 6, 5, 8, 3, 1, 4, 7, 0],\n",
       "  [6, 4, 0, 8, 3, 1, 5, 2, 7]],\n",
       " [[7, 9, 5, 4, 3, 1, 0, 10, 6, 8, 2],\n",
       "  [7, 5, 9, 4, 3, 1, 0, 10, 8, 6, 2],\n",
       "  [3, 9, 5, 4, 7, 6, 1, 0, 10, 8, 2],\n",
       "  [7, 9, 5, 4, 3, 1, 0, 6, 10, 8, 2],\n",
       "  [10, 3, 0, 4, 5, 6, 7, 8, 9, 1, 2],\n",
       "  [1, 0, 3, 4, 5, 6, 7, 2, 9, 10, 8],\n",
       "  [0, 1, 3, 4, 5, 6, 7, 2, 8, 10, 9],\n",
       "  [7, 6, 9, 5, 4, 3, 1, 0, 10, 8, 2],\n",
       "  [1, 0, 3, 4, 5, 6, 7, 2, 9, 10, 8]])"
      ]
     },
     "execution_count": 15,
     "metadata": {},
     "output_type": "execute_result"
    }
   ],
   "source": [
    "matCE = matriceCE(f\"{folder}/PrefEtu.txt\")\n",
    "cap, matCParc = matriceCP(f\"{folder}/PrefSpe.txt\")\n",
    "matCE, matCParc"
   ]
  },
  {
   "cell_type": "code",
   "execution_count": 16,
   "metadata": {},
   "outputs": [
    {
     "data": {
      "text/plain": [
       "[[3, 5], [4], [9], [8], [10], [0], [1], [7], [2, 6]]"
      ]
     },
     "execution_count": 16,
     "metadata": {},
     "output_type": "execute_result"
    }
   ],
   "source": [
    "sol_GS_etud, _ = gale_shapley_etud(matCE, matCParc, cap)\n",
    "sol_GS_etud"
   ]
  },
  {
   "cell_type": "code",
   "execution_count": 17,
   "metadata": {},
   "outputs": [
    {
     "data": {
      "text/plain": [
       "[[3, 5], [4], [9], [8], [10], [1], [0], [7], [2, 6]]"
      ]
     },
     "execution_count": 17,
     "metadata": {},
     "output_type": "execute_result"
    }
   ],
   "source": [
    "sol_GS_parc, _ = gale_shapley_parc(matCE, matCParc, cap)\n",
    "sol_GS_parc"
   ]
  },
  {
   "cell_type": "code",
   "execution_count": 18,
   "metadata": {},
   "outputs": [],
   "source": [
    "assert(get_instable(matCE, matCParc, sol_GS_etud) == set())\n",
    "assert(get_instable(matCE, matCParc, sol_GS_parc) == set())"
   ]
  },
  {
   "cell_type": "code",
   "execution_count": 19,
   "metadata": {},
   "outputs": [
    {
     "data": {
      "text/plain": [
       "({(0, 5),\n",
       "  (0, 7),\n",
       "  (0, 10),\n",
       "  (2, 9),\n",
       "  (4, 5),\n",
       "  (4, 10),\n",
       "  (5, 0),\n",
       "  (5, 1),\n",
       "  (6, 0),\n",
       "  (6, 1),\n",
       "  (6, 3),\n",
       "  (7, 0),\n",
       "  (7, 5),\n",
       "  (7, 6),\n",
       "  (7, 7),\n",
       "  (8, 0)},\n",
       " 16)"
      ]
     },
     "execution_count": 19,
     "metadata": {},
     "output_type": "execute_result"
    }
   ],
   "source": [
    "sol_equitable = [[1, 2], [4], [5], [0], [7], [3], [6], [8], [9, 10]]\n",
    "paires_instables = get_instable(matCE, matCParc, sol_equitable)\n",
    "paires_instables, len(paires_instables)"
   ]
  },
  {
   "cell_type": "code",
   "execution_count": 20,
   "metadata": {},
   "outputs": [
    {
     "data": {
      "text/plain": [
       "({(6, 0), (6, 1), (7, 7)}, 3)"
      ]
     },
     "execution_count": 20,
     "metadata": {},
     "output_type": "execute_result"
    }
   ],
   "source": [
    "sol_efficace_n = [[5, 7], [4], [9], [8], [10], [1], [3], [6], [0, 2]]\n",
    "paires_instables = get_instable(matCE, matCParc, sol_efficace_n)\n",
    "paires_instables, len(paires_instables)"
   ]
  },
  {
   "cell_type": "code",
   "execution_count": 21,
   "metadata": {},
   "outputs": [
    {
     "data": {
      "text/plain": [
       "({(2, 9), (6, 0), (6, 1), (7, 7)}, 4)"
      ]
     },
     "execution_count": 21,
     "metadata": {},
     "output_type": "execute_result"
    }
   ],
   "source": [
    "sol_efficace_k5 = [[5, 7], [4], [8], [9], [10], [1], [3], [6], [0, 2]]\n",
    "paires_instables = get_instable(matCE, matCParc, sol_efficace_k5)\n",
    "paires_instables, len(paires_instables)"
   ]
  }
 ],
 "metadata": {
  "kernelspec": {
   "display_name": "venv",
   "language": "python",
   "name": "python3"
  },
  "language_info": {
   "codemirror_mode": {
    "name": "ipython",
    "version": 3
   },
   "file_extension": ".py",
   "mimetype": "text/x-python",
   "name": "python",
   "nbconvert_exporter": "python",
   "pygments_lexer": "ipython3",
   "version": "3.11.4"
  }
 },
 "nbformat": 4,
 "nbformat_minor": 2
}
